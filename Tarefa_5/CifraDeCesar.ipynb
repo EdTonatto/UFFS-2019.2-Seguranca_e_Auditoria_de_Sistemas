{
  "nbformat": 4,
  "nbformat_minor": 0,
  "metadata": {
    "colab": {
      "name": "CifraDeCesar.ipynb",
      "provenance": [],
      "collapsed_sections": []
    },
    "kernelspec": {
      "name": "python3",
      "display_name": "Python 3"
    }
  },
  "cells": [
    {
      "cell_type": "markdown",
      "metadata": {
        "id": "wkz3bvzTrdJR",
        "colab_type": "text"
      },
      "source": [
        "# **Cifra de César**\n",
        "A cifra de César é uma das formas de criptografia mais conhecidas, é uma cifra do tipo de substituição, o que significa que consiste numa troca entre cada letra do alfabeto por outra letra, de acordo com uma chave específica. \n",
        "\n",
        "No caso desta cifra, a chave determina quantas \"rotações\" serão feitas no alfabeto para criar um \"alfabeto criptografado\". Exemplo utilizando uma chave de valor `4`, `A` será criptografado como a letra `E`, pois foi \"rotacionado\" o `A` para a próxima letra 4 vezes, isso irá se repetir para todas as letras e o resultado será conforme tabela abaixo:\n",
        "\n",
        "| Tipo Alfabeto | Alfabeto                   |\n",
        "|---------------|----------------------------|\n",
        "| Normal        | ABCDEFGHIJKLMNOPQRSTUVWXYZ |\n",
        "| Criptografado | EFGHIJKLMNOPQRSTUVWXYZABCD |\n",
        "\n",
        "Abaixo exemplo em python criando essa rotação no alfabeto."
      ]
    },
    {
      "cell_type": "code",
      "metadata": {
        "id": "RGbbmfFQw8f-",
        "colab_type": "code",
        "colab": {
          "base_uri": "https://localhost:8080/",
          "height": 440
        },
        "outputId": "ce19c423-7a62-4ec5-d96d-9b568d27b91e"
      },
      "source": [
        "import string\n",
        "\n",
        "key = 4\n",
        "\n",
        "def alphabet():\n",
        "  dictionary = {}\n",
        "  i = 0\n",
        "  for letter in string.ascii_uppercase:\n",
        "    dictionary[i] = letter\n",
        "    i += 1\n",
        "  return dictionary\n",
        "\n",
        "def encrypted_alphabet(rotation):\n",
        "  i = 0\n",
        "  alpha = alphabet()\n",
        "  dictionary = {}\n",
        "  for letter in string.ascii_uppercase:\n",
        "    dictionary[alpha[i]] = alpha[((i + rotation)%26)]\n",
        "    i += 1\n",
        "  return dictionary\n",
        "\n",
        "def print_encypted_alphabet():\n",
        "  dictionary = encrypted_alphabet(key)\n",
        "  for letter in string.ascii_uppercase:\n",
        "    print(\"Letra {letter} foi codificada para {letter2}\".format(letter=letter, letter2=dictionary[letter]))\n",
        "\n",
        "print_encypted_alphabet()"
      ],
      "execution_count": 46,
      "outputs": [
        {
          "output_type": "stream",
          "text": [
            "Letra A foi codificada para E\n",
            "Letra B foi codificada para F\n",
            "Letra C foi codificada para G\n",
            "Letra D foi codificada para H\n",
            "Letra E foi codificada para I\n",
            "Letra F foi codificada para J\n",
            "Letra G foi codificada para K\n",
            "Letra H foi codificada para L\n",
            "Letra I foi codificada para M\n",
            "Letra J foi codificada para N\n",
            "Letra K foi codificada para O\n",
            "Letra L foi codificada para P\n",
            "Letra M foi codificada para Q\n",
            "Letra N foi codificada para R\n",
            "Letra O foi codificada para S\n",
            "Letra P foi codificada para T\n",
            "Letra Q foi codificada para U\n",
            "Letra R foi codificada para V\n",
            "Letra S foi codificada para W\n",
            "Letra T foi codificada para X\n",
            "Letra U foi codificada para Y\n",
            "Letra V foi codificada para Z\n",
            "Letra W foi codificada para A\n",
            "Letra X foi codificada para B\n",
            "Letra Y foi codificada para C\n",
            "Letra Z foi codificada para D\n"
          ],
          "name": "stdout"
        }
      ]
    }
  ]
}