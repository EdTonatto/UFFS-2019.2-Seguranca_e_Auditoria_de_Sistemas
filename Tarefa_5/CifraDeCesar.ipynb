{
  "nbformat": 4,
  "nbformat_minor": 0,
  "metadata": {
    "colab": {
      "name": "CifraDeCesar.ipynb",
      "provenance": [],
      "collapsed_sections": []
    },
    "kernelspec": {
      "name": "python3",
      "display_name": "Python 3"
    }
  },
  "cells": [
    {
      "cell_type": "markdown",
      "metadata": {
        "id": "wkz3bvzTrdJR",
        "colab_type": "text"
      },
      "source": [
        "# **Cifra de César**\n",
        "A cifra de César é uma das formas de criptografia mais conhecidas, é uma cifra do tipo de substituição, o que significa que consiste numa troca entre cada letra do alfabeto por outra letra, de acordo com uma chave específica. \n",
        "\n",
        "No caso desta cifra, a chave determina quantas \"rotações\" serão feitas no alfabeto para criar um \"alfabeto criptografado\". Exemplo utilizando uma chave de valor `4`, `A` será criptografado como a letra `E`, pois foi \"rotacionado\" o A para a próxima letra 4 vezes, isso irá se repetir para todas as letras e o resultado será conforme tabela abaixo:\n",
        "\n",
        "| Tipo Alfabeto | Alfabeto                   |\n",
        "|---------------|----------------------------|\n",
        "| Normal        | ABCDEFGHIJKLMNOPQRSTUVWXYZ |\n",
        "| Criptografado | EFGHIJKLMNOPQRSTUVWXYZABCD |\n"
      ]
    }
  ]
}