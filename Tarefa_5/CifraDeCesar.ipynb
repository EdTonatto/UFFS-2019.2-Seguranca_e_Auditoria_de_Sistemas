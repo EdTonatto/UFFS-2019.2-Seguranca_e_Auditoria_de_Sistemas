{
  "nbformat": 4,
  "nbformat_minor": 0,
  "metadata": {
    "colab": {
      "name": "CifraDeCesar.ipynb",
      "provenance": [],
      "collapsed_sections": [],
      "toc_visible": true
    },
    "kernelspec": {
      "name": "python3",
      "display_name": "Python 3"
    }
  },
  "cells": [
    {
      "cell_type": "markdown",
      "metadata": {
        "id": "wkz3bvzTrdJR",
        "colab_type": "text"
      },
      "source": [
        "# **Cifra de César**\n",
        "A cifra de César é uma das formas de criptografia mais conhecidas, é uma cifra do tipo de substituição, o que significa que consiste numa troca entre cada letra do alfabeto por outra letra, de acordo com uma chave específica. \n",
        "\n",
        "No caso desta cifra, a chave determina quantas \"rotações\" serão feitas no alfabeto para criar um \"alfabeto criptografado\". Exemplo utilizando uma chave de valor `4`, `A` será criptografado como a letra `E`, pois foi \"rotacionado\" o `A` para a próxima letra 4 vezes, isso irá se repetir para todas as letras e o resultado será conforme tabela abaixo:\n",
        "\n",
        "| Tipo Alfabeto | Alfabeto                   |\n",
        "|---------------|----------------------------|\n",
        "| Normal        | ABCDEFGHIJKLMNOPQRSTUVWXYZ |\n",
        "| Criptografado | EFGHIJKLMNOPQRSTUVWXYZABCD |\n",
        "\n",
        "Abaixo exemplo em python criando essa rotação no alfabeto. Caso queira mudar o alfabeto criptografado, basta mudar o valor da variavel `key`, pois ela determina quantas rotações serão feitas."
      ]
    },
    {
      "cell_type": "code",
      "metadata": {
        "id": "RGbbmfFQw8f-",
        "colab_type": "code",
        "outputId": "996c2180-65de-45cd-e544-4ed64b04a033",
        "colab": {
          "base_uri": "https://localhost:8080/",
          "height": 440
        }
      },
      "source": [
        "import string\n",
        "\n",
        "key = 4\n",
        "alphabet = create_alphabet()\n",
        "encrypted_alphabet = encrypt_alphabet(key)\n",
        "\n",
        "def create_alphabet():\n",
        "  dictionary = {}\n",
        "  i = 0\n",
        "  for letter in string.ascii_uppercase:\n",
        "    dictionary[i] = letter\n",
        "    i += 1\n",
        "  return dictionary\n",
        "\n",
        "def encrypt_alphabet(rotation):\n",
        "  i = 0\n",
        "  alphabet = create_alphabet()\n",
        "  dictionary = {}\n",
        "  for letter in string.ascii_uppercase:\n",
        "    dictionary[alphabet[i]] = alphabet[((i + rotation)%26)]\n",
        "    i += 1\n",
        "  return dictionary\n",
        "\n",
        "def print_encypted_alphabet():\n",
        "  dictionary = encrypted_alphabet\n",
        "  for letter in string.ascii_uppercase:\n",
        "    print(\"Letra {letter} foi codificada para {letter2}\".format(letter=letter, letter2=dictionary[letter]))\n",
        "\n",
        "print_encypted_alphabet()"
      ],
      "execution_count": 38,
      "outputs": [
        {
          "output_type": "stream",
          "text": [
            "Letra A foi codificada para E\n",
            "Letra B foi codificada para F\n",
            "Letra C foi codificada para G\n",
            "Letra D foi codificada para H\n",
            "Letra E foi codificada para I\n",
            "Letra F foi codificada para J\n",
            "Letra G foi codificada para K\n",
            "Letra H foi codificada para L\n",
            "Letra I foi codificada para M\n",
            "Letra J foi codificada para N\n",
            "Letra K foi codificada para O\n",
            "Letra L foi codificada para P\n",
            "Letra M foi codificada para Q\n",
            "Letra N foi codificada para R\n",
            "Letra O foi codificada para S\n",
            "Letra P foi codificada para T\n",
            "Letra Q foi codificada para U\n",
            "Letra R foi codificada para V\n",
            "Letra S foi codificada para W\n",
            "Letra T foi codificada para X\n",
            "Letra U foi codificada para Y\n",
            "Letra V foi codificada para Z\n",
            "Letra W foi codificada para A\n",
            "Letra X foi codificada para B\n",
            "Letra Y foi codificada para C\n",
            "Letra Z foi codificada para D\n"
          ],
          "name": "stdout"
        }
      ]
    },
    {
      "cell_type": "markdown",
      "metadata": {
        "id": "ylyeyo9a2wsC",
        "colab_type": "text"
      },
      "source": [
        "\n",
        "\n",
        "---\n",
        "\n",
        "## Cifrando um texto\n",
        "Agora, tendo nosso alfabeto inteiro criptografado a partir de uma rotação nas letras, é possível que seja feito a criptografia de uma palavra, texto ou frase.\n",
        "Como exemplo vamos traduzir a seguinte frase: `\"TEXTONAOCRIPTOGRAFADO\"`. A partir da nossa rotação de 4 caracteres, fazendo a substituição de cada letra pela respectiva letra no alfabeto criptografado, o resultado esperado é o seguinte: `\"XIBXSRESGVMTXSKVEJEHS\"`.\n",
        "\n",
        "Utilizando nosso alphabeto já criado em python, iremos criptografar nosso texto que estiver na variavel `normal_text`. Para verificar como outras palavaras ou frases ficariam criptografadas, basta trocar o valor desta variavel."
      ]
    },
    {
      "cell_type": "code",
      "metadata": {
        "id": "ipNJoOCv3x8e",
        "colab_type": "code",
        "colab": {
          "base_uri": "https://localhost:8080/",
          "height": 50
        },
        "outputId": "e5de8f04-026e-48ce-b358-74bdb6cb9d3d"
      },
      "source": [
        "normal_text = \"TEXTONAOCRIPTOGRAFADO\"\n",
        "\n",
        "def encrypt(text):\n",
        "  encrypted_text = \"\"\n",
        "  for letter in text:\n",
        "    if letter in string.ascii_uppercase:\n",
        "      encrypted_text += encrypted_alphabet[letter]\n",
        "  return encrypted_text\n",
        "\n",
        "encrypted_text = encrypt(normal_text)\n",
        "print(\"Texto inserido foi criptografado.\\nTexto Criptografado: {encrypted}\".format(encrypted=encrypted_text))"
      ],
      "execution_count": 39,
      "outputs": [
        {
          "output_type": "stream",
          "text": [
            "Texto inserido foi criptografado.\n",
            "Texto Criptografado: XIBXSRESGVMTXSKVEJEHS\n"
          ],
          "name": "stdout"
        }
      ]
    },
    {
      "cell_type": "markdown",
      "metadata": {
        "id": "AAn4Ol_F6Mas",
        "colab_type": "text"
      },
      "source": [
        "\n",
        "\n",
        "---\n",
        "\n",
        "## Decifrando um texto\n",
        "### Contendo a chave de rotação\n",
        "Para decifrar o código contendo a chave utilizada para cifrá-lo o processo é muito semelhante ao de cifrar, porém será feito ao contrário, é necessário pegar cada letra do texto cifrado e ver a quem ela corresponde no nosso alfabeto padrão.\n",
        "\n",
        "Então teremos que o texto cifrado `\"XIBXSRESGVMTXSKVEJEHS\"` a partir da chave de rotação `4` será decifrado como nosso texto original `\"TEXTONAOCRIPTOGRAFADO\"`."
      ]
    },
    {
      "cell_type": "code",
      "metadata": {
        "id": "0UehsNFE9Wr7",
        "colab_type": "code",
        "colab": {
          "base_uri": "https://localhost:8080/",
          "height": 86
        },
        "outputId": "164f9220-7646-4df7-977a-e7aa0aac11af"
      },
      "source": [
        "def decrypt_alphabet():\n",
        "  dictionary = {}\n",
        "  i = 0\n",
        "  for letter in encrypted_alphabet:\n",
        "    dictionary[encrypted_alphabet[letter]] = i\n",
        "    i = (i + 1) % 26\n",
        "  return dictionary\n",
        "\n",
        "def decrypt_text(encrypted_text):\n",
        "  decrypted_text = \"\"\n",
        "  for letter in encrypted_text:\n",
        "    if letter in string.ascii_uppercase:\n",
        "      decrypted_text = decrypted_text + alphabet[decrypted_alphabet[letter]] \n",
        "  print(decrypted_text)\n",
        "\n",
        "decrypted_alphabet = decrypt_alphabet()\n",
        "print(alphabet)\n",
        "print(decrypted_alphabet)\n",
        "decrypt_text(\"XIBXSRESGVMTXSKVEJEHS\")"
      ],
      "execution_count": 70,
      "outputs": [
        {
          "output_type": "stream",
          "text": [
            "{0: 'A', 1: 'B', 2: 'C', 3: 'D', 4: 'E', 5: 'F', 6: 'G', 7: 'H', 8: 'I', 9: 'J', 10: 'K', 11: 'L', 12: 'M', 13: 'N', 14: 'O', 15: 'P', 16: 'Q', 17: 'R', 18: 'S', 19: 'T', 20: 'U', 21: 'V', 22: 'W', 23: 'X', 24: 'Y', 25: 'Z'}\n",
            "{'E': 0, 'F': 1, 'G': 2, 'H': 3, 'I': 4, 'J': 5, 'K': 6, 'L': 7, 'M': 8, 'N': 9, 'O': 10, 'P': 11, 'Q': 12, 'R': 13, 'S': 14, 'T': 15, 'U': 16, 'V': 17, 'W': 18, 'X': 19, 'Y': 20, 'Z': 21, 'A': 22, 'B': 23, 'C': 24, 'D': 25}\n",
            "TEXTONAOCRIPTOGRAFADO\n"
          ],
          "name": "stdout"
        }
      ]
    }
  ]
}