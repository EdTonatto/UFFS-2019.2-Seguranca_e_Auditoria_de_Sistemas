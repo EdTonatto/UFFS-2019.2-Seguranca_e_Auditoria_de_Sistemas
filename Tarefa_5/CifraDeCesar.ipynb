{
  "nbformat": 4,
  "nbformat_minor": 0,
  "metadata": {
    "colab": {
      "name": "CifraDeCesar.ipynb",
      "provenance": [],
      "collapsed_sections": [],
      "toc_visible": true
    },
    "kernelspec": {
      "name": "python3",
      "display_name": "Python 3"
    }
  },
  "cells": [
    {
      "cell_type": "markdown",
      "metadata": {
        "id": "wkz3bvzTrdJR",
        "colab_type": "text"
      },
      "source": [
        "# **Cifra de César**\n",
        "A cifra de César é uma das formas de criptografia mais conhecidas, é uma cifra do tipo de substituição, o que significa que consiste numa troca entre cada letra do alfabeto por outra letra, de acordo com uma chave específica. \n",
        "\n",
        "No caso desta cifra, a chave determina quantas \"rotações\" serão feitas no alfabeto para criar um \"alfabeto criptografado\". Exemplo utilizando uma chave de valor `4`, `A` será criptografado como a letra `E`, pois foi \"rotacionado\" o `A` para a próxima letra 4 vezes, isso irá se repetir para todas as letras e o resultado será conforme tabela abaixo:\n",
        "\n",
        "| Tipo Alfabeto | Alfabeto                   |\n",
        "|---------------|----------------------------|\n",
        "| Normal        | ABCDEFGHIJKLMNOPQRSTUVWXYZ |\n",
        "| Criptografado | EFGHIJKLMNOPQRSTUVWXYZABCD |\n",
        "\n",
        "Abaixo exemplo em python criando essa rotação no alfabeto. Caso queira mudar o alfabeto criptografado, basta mudar o valor da variavel `key`, pois ela determina quantas rotações serão feitas."
      ]
    },
    {
      "cell_type": "code",
      "metadata": {
        "id": "RGbbmfFQw8f-",
        "colab_type": "code",
        "outputId": "022b8ecf-fdf7-4784-fa33-9aeda92d918a",
        "colab": {
          "base_uri": "https://localhost:8080/",
          "height": 440
        }
      },
      "source": [
        "import string\n",
        "\n",
        "key = 4\n",
        "alphabet = create_alphabet()\n",
        "encrypted_alphabet = encrypt_alphabet(key)\n",
        "\n",
        "def create_alphabet():\n",
        "  dictionary = {}\n",
        "  i = 0\n",
        "  for letter in string.ascii_uppercase:\n",
        "    dictionary[i] = letter\n",
        "    i += 1\n",
        "  return dictionary\n",
        "\n",
        "def encrypt_alphabet(rotation):\n",
        "  i = 0\n",
        "  alphabet = create_alphabet()\n",
        "  dictionary = {}\n",
        "  for letter in string.ascii_uppercase:\n",
        "    dictionary[alphabet[i]] = alphabet[((i + rotation)%26)]\n",
        "    i += 1\n",
        "  return dictionary\n",
        "\n",
        "def print_encypted_alphabet():\n",
        "  dictionary = encrypted_alphabet\n",
        "  for letter in string.ascii_uppercase:\n",
        "    print(\"Letra {letter} foi codificada para {letter2}\".format(letter=letter, letter2=dictionary[letter]))\n",
        "\n",
        "print_encypted_alphabet()"
      ],
      "execution_count": 0,
      "outputs": [
        {
          "output_type": "stream",
          "text": [
            "Letra A foi codificada para E\n",
            "Letra B foi codificada para F\n",
            "Letra C foi codificada para G\n",
            "Letra D foi codificada para H\n",
            "Letra E foi codificada para I\n",
            "Letra F foi codificada para J\n",
            "Letra G foi codificada para K\n",
            "Letra H foi codificada para L\n",
            "Letra I foi codificada para M\n",
            "Letra J foi codificada para N\n",
            "Letra K foi codificada para O\n",
            "Letra L foi codificada para P\n",
            "Letra M foi codificada para Q\n",
            "Letra N foi codificada para R\n",
            "Letra O foi codificada para S\n",
            "Letra P foi codificada para T\n",
            "Letra Q foi codificada para U\n",
            "Letra R foi codificada para V\n",
            "Letra S foi codificada para W\n",
            "Letra T foi codificada para X\n",
            "Letra U foi codificada para Y\n",
            "Letra V foi codificada para Z\n",
            "Letra W foi codificada para A\n",
            "Letra X foi codificada para B\n",
            "Letra Y foi codificada para C\n",
            "Letra Z foi codificada para D\n"
          ],
          "name": "stdout"
        }
      ]
    },
    {
      "cell_type": "markdown",
      "metadata": {
        "id": "ylyeyo9a2wsC",
        "colab_type": "text"
      },
      "source": [
        "\n",
        "\n",
        "---\n",
        "\n",
        "## Cifrando um texto\n",
        "Agora, tendo nosso alfabeto inteiro criptografado a partir de uma rotação nas letras, é possível que seja feito a criptografia de uma palavra, texto ou frase.\n",
        "Como exemplo vamos traduzir a seguinte frase: `\"TEXTONAOCRIPTOGRAFADO\"`. A partir da nossa rotação de 4 caracteres, fazendo a substituição de cada letra pela respectiva letra no alfabeto criptografado, o resultado esperado é o seguinte: `\"XIBXSRESGVMTXSKVEJEHS\"`.\n",
        "\n",
        "Utilizando nosso alphabeto já criado em python, iremos criptografar nosso texto que estiver na variavel `normal_text`. Para verificar como outras palavaras ou frases ficariam criptografadas, basta trocar o valor desta variavel."
      ]
    },
    {
      "cell_type": "code",
      "metadata": {
        "id": "ipNJoOCv3x8e",
        "colab_type": "code",
        "outputId": "c75e4aee-ee53-4a1a-f1fc-a63cf70ed2b4",
        "colab": {
          "base_uri": "https://localhost:8080/",
          "height": 50
        }
      },
      "source": [
        "normal_text = \"TEXTONAOCRIPTOGRAFADO\"\n",
        "\n",
        "def encrypt(text):\n",
        "  encrypted_text = \"\"\n",
        "  for letter in text:\n",
        "    if letter in string.ascii_uppercase:\n",
        "      encrypted_text += encrypted_alphabet[letter]\n",
        "  return encrypted_text\n",
        "\n",
        "encrypted_text = encrypt(normal_text)\n",
        "print(\"Texto inserido foi criptografado.\\nTexto Criptografado: {encrypted}\".format(encrypted=encrypted_text))"
      ],
      "execution_count": 0,
      "outputs": [
        {
          "output_type": "stream",
          "text": [
            "Texto inserido foi criptografado.\n",
            "Texto Criptografado: XIBXSRESGVMTXSKVEJEHS\n"
          ],
          "name": "stdout"
        }
      ]
    },
    {
      "cell_type": "markdown",
      "metadata": {
        "id": "oZDIIvgpYmAL",
        "colab_type": "text"
      },
      "source": [
        "\n",
        "---\n",
        "\n",
        "## Decifrando um texto"
      ]
    },
    {
      "cell_type": "markdown",
      "metadata": {
        "id": "AAn4Ol_F6Mas",
        "colab_type": "text"
      },
      "source": [
        "### Contendo a chave de rotação\n",
        "Para decifrar o código contendo a chave utilizada para cifrá-lo o processo é muito semelhante ao de cifrar, porém será feito ao contrário, é necessário pegar cada letra do texto cifrado e ver a quem ela corresponde no nosso alfabeto padrão.\n",
        "\n",
        "Então teremos que o texto cifrado `\"XIBXSRESGVMTXSKVEJEHS\"` a partir da chave de rotação `4` será decifrado como nosso texto original `\"TEXTONAOCRIPTOGRAFADO\"`.\n",
        "\n",
        "No nosso código em python para decriptografar não precisaremos necessariamente utilizar o valor da chave (4, no nosso caso) para desobrirmos qual letra representa qual. Para isso, como temos o nosso dicionário de nome `encrypted_alphabet` para dizer que por exemplo a letra `T` criptografada equivale à letra `X`, podemos simplesmente inverter as chaves e valores do dicionário para obter que a letra criptografada `X` corresponde à `T`. Fazemos isso para todas letras e obtemos o alfabeto padrão. Código abaixo."
      ]
    },
    {
      "cell_type": "code",
      "metadata": {
        "id": "0UehsNFE9Wr7",
        "colab_type": "code",
        "outputId": "bb19c61b-44ed-451e-e7e3-debaf1a1be3d",
        "colab": {
          "base_uri": "https://localhost:8080/",
          "height": 51
        }
      },
      "source": [
        "def decrypt_alphabet():\n",
        "  encrypted_alphabet_keys = list(dict.keys(encrypted_alphabet))\n",
        "  encrypted_alphabet_values = list(dict.values(encrypted_alphabet))\n",
        "  dictionary = {}\n",
        "  i = 0\n",
        "  for value in encrypted_alphabet_values:\n",
        "    dictionary[value] = encrypted_alphabet_keys[i]\n",
        "    i += 1\n",
        "  return dictionary\n",
        "\n",
        "def decrypt_text(encrypted_text):\n",
        "  return \"\".join([decrypted_alphabet[letter] for letter in encrypted_text])\n",
        "\n",
        "decrypted_alphabet = decrypt_alphabet()\n",
        "print(\"O texto {encrypted} foi decriptografado.\\nTexto decriptografado: {normal}\".format(encrypted=encrypted_text, normal=decrypt_text(encrypted_text)))"
      ],
      "execution_count": 138,
      "outputs": [
        {
          "output_type": "stream",
          "text": [
            "O texto XIBXSRESGVMTXSKVEJEHS foi decriptografado.\n",
            "Texto decriptografado: TEXTONAOCRIPTOGRAFADO\n"
          ],
          "name": "stdout"
        }
      ]
    },
    {
      "cell_type": "markdown",
      "metadata": {
        "id": "UI7nVB2RYwYE",
        "colab_type": "text"
      },
      "source": [
        "### Sem a chave de rotação (Força Bruta)"
      ]
    },
    {
      "cell_type": "code",
      "metadata": {
        "id": "jdGIvK4_Y5Hs",
        "colab_type": "code",
        "colab": {
          "base_uri": "https://localhost:8080/",
          "height": 459
        },
        "outputId": "3119b169-b60b-4e65-d23e-e4fe6a73a723"
      },
      "source": [
        "def decrypt_alphabet_bruteforce(encrypted_alphabet_bruteforce):\n",
        "  encrypted_alphabet_bruteforce_keys = list(dict.keys(encrypted_alphabet_bruteforce))\n",
        "  encrypted_alphabet_bruteforce_values = list(dict.values(encrypted_alphabet_bruteforce))\n",
        "  dictionary = {}\n",
        "  i = 0\n",
        "  for value in encrypted_alphabet_bruteforce_values:\n",
        "    dictionary[value] = encrypted_alphabet_bruteforce_keys[i]\n",
        "    i += 1\n",
        "  return dictionary\n",
        "\n",
        "def decrypt_text_bruteforce(encrypted_text, decrypted_alphabet_bruteforce):\n",
        "  return \"\".join([decrypted_alphabet_bruteforce[letter] for letter in encrypted_text])\n",
        "\n",
        "for i in range(26):\n",
        "  encrypted_alphabet_bruteforce = encrypt_alphabet(i)\n",
        "  decrypted_alphabet_bruteforce = decrypt_alphabet_bruteforce(encrypted_alphabet_bruteforce)\n",
        "  decrypted_text_bruteforce = decrypt_text_bruteforce(encrypted_text, decrypted_alphabet_bruteforce)\n",
        "  print(\"Tentativa de quebra por força bruta nº {i}. Texto decriptografado: {decrypted}\".format(i=i, decrypted=decrypted_text_bruteforce))"
      ],
      "execution_count": 137,
      "outputs": [
        {
          "output_type": "stream",
          "text": [
            "Tentativa de quebra por força bruta nº 0. Texto decriptografado: XIBXSRESGVMTXSKVEJEHS\n",
            "Tentativa de quebra por força bruta nº 1. Texto decriptografado: WHAWRQDRFULSWRJUDIDGR\n",
            "Tentativa de quebra por força bruta nº 2. Texto decriptografado: VGZVQPCQETKRVQITCHCFQ\n",
            "Tentativa de quebra por força bruta nº 3. Texto decriptografado: UFYUPOBPDSJQUPHSBGBEP\n",
            "Tentativa de quebra por força bruta nº 4. Texto decriptografado: TEXTONAOCRIPTOGRAFADO\n",
            "Tentativa de quebra por força bruta nº 5. Texto decriptografado: SDWSNMZNBQHOSNFQZEZCN\n",
            "Tentativa de quebra por força bruta nº 6. Texto decriptografado: RCVRMLYMAPGNRMEPYDYBM\n",
            "Tentativa de quebra por força bruta nº 7. Texto decriptografado: QBUQLKXLZOFMQLDOXCXAL\n",
            "Tentativa de quebra por força bruta nº 8. Texto decriptografado: PATPKJWKYNELPKCNWBWZK\n",
            "Tentativa de quebra por força bruta nº 9. Texto decriptografado: OZSOJIVJXMDKOJBMVAVYJ\n",
            "Tentativa de quebra por força bruta nº 10. Texto decriptografado: NYRNIHUIWLCJNIALUZUXI\n",
            "Tentativa de quebra por força bruta nº 11. Texto decriptografado: MXQMHGTHVKBIMHZKTYTWH\n",
            "Tentativa de quebra por força bruta nº 12. Texto decriptografado: LWPLGFSGUJAHLGYJSXSVG\n",
            "Tentativa de quebra por força bruta nº 13. Texto decriptografado: KVOKFERFTIZGKFXIRWRUF\n",
            "Tentativa de quebra por força bruta nº 14. Texto decriptografado: JUNJEDQESHYFJEWHQVQTE\n",
            "Tentativa de quebra por força bruta nº 15. Texto decriptografado: ITMIDCPDRGXEIDVGPUPSD\n",
            "Tentativa de quebra por força bruta nº 16. Texto decriptografado: HSLHCBOCQFWDHCUFOTORC\n",
            "Tentativa de quebra por força bruta nº 17. Texto decriptografado: GRKGBANBPEVCGBTENSNQB\n",
            "Tentativa de quebra por força bruta nº 18. Texto decriptografado: FQJFAZMAODUBFASDMRMPA\n",
            "Tentativa de quebra por força bruta nº 19. Texto decriptografado: EPIEZYLZNCTAEZRCLQLOZ\n",
            "Tentativa de quebra por força bruta nº 20. Texto decriptografado: DOHDYXKYMBSZDYQBKPKNY\n",
            "Tentativa de quebra por força bruta nº 21. Texto decriptografado: CNGCXWJXLARYCXPAJOJMX\n",
            "Tentativa de quebra por força bruta nº 22. Texto decriptografado: BMFBWVIWKZQXBWOZINILW\n",
            "Tentativa de quebra por força bruta nº 23. Texto decriptografado: ALEAVUHVJYPWAVNYHMHKV\n",
            "Tentativa de quebra por força bruta nº 24. Texto decriptografado: ZKDZUTGUIXOVZUMXGLGJU\n",
            "Tentativa de quebra por força bruta nº 25. Texto decriptografado: YJCYTSFTHWNUYTLWFKFIT\n"
          ],
          "name": "stdout"
        }
      ]
    }
  ]
}