{
  "nbformat": 4,
  "nbformat_minor": 0,
  "metadata": {
    "colab": {
      "name": "CifraDeVigenere.ipynb",
      "provenance": [],
      "collapsed_sections": []
    },
    "kernelspec": {
      "name": "python3",
      "display_name": "Python 3"
    }
  },
  "cells": [
    {
      "cell_type": "markdown",
      "metadata": {
        "id": "C1tYZTzIuLta",
        "colab_type": "text"
      },
      "source": [
        "# Cifra de Vigenère\n",
        "\n",
        "A Cifra de Vigenère segue a ideia principal de outra cifra, a Cifra de César. Porém diferente da cifra de César onde a chave de codificação consistia em um valor fixo, aqui na cifra de Vigenère temos a chave com diferentes valores, a chave não necessariamente é um numero, mas sim um caractere.\n",
        "\n",
        "Cada letra do alfabeto é mapeada com números de 0 até 25, representando os 26 caracteres do alfabeto. E a cifra consiste em somarmos o valor da letra do texto normal, com o valor da letra correspondente na chave.\n",
        "\n",
        "Como exemplo iremos usar a seguinte frase `TEXTONAOCRIPTOGRAFADO` e como chave iremos usar `BATATA`, a chave deve ser repetida até que complete o tamanho da frase. Como resultado teremos o valor de `T` somado com o valor de `B`, o de `E` somado com o de `A` e assim por diante até que se complete todo o texto de entrada.\n",
        "\n",
        "|Descrição            |Valor                |\n",
        "|:-------------------:|:-------------------:|\n",
        "|Texto normal         |TEXTONAOCRIPTOGRAFADO|\n",
        "|Chave de criptografia|BATATABATATABATATABAT|\n",
        "|Texto criptografado  |UEQTHNBOVRBPUOZRTFBDH|\n",
        "\n",
        "Abaixo exemplo em código utilizando o texto normal e a chave de criptografia da tabela acima.\n"
      ]
    },
    {
      "cell_type": "code",
      "metadata": {
        "id": "Dxru6MrV9qag",
        "colab_type": "code",
        "outputId": "5ee182c4-9298-47f5-861b-bc00f6db9c76",
        "colab": {
          "base_uri": "https://localhost:8080/",
          "height": 68
        }
      },
      "source": [
        "import string\n",
        "\n",
        "alphabet = {}\n",
        "encode_alphabet = {}\n",
        "normal_text = \"TEXTONAOCRIPTOGRAFADO\"\n",
        "key = \"BATATA\"\n",
        "encrypted_text = \"\"\n",
        "\n",
        "def create_alphabet():\n",
        "  i = 0\n",
        "  for letter in string.ascii_uppercase:\n",
        "    alphabet[letter] = i\n",
        "    encode_alphabet[i] = letter\n",
        "    i += 1\n",
        "create_alphabet()\n",
        "\n",
        "def encrypt_text():\n",
        "  normal_text_list = list(normal_text)\n",
        "  key_list = list(key)\n",
        "  return \"\".join([encode_alphabet[(alphabet[normal_text_list[i]] + alphabet[key_list[i % len(key)]]) % len(alphabet)] for i in range(len(normal_text))])\n",
        "encrypted_text = encrypt_text()\n",
        "\n",
        "print(\"O texto inserido {normal} foi criptografado utilizando a chave {key}.\\nTexto criptografado: {encrypted}\".format(normal=normal_text,\n",
        "                                                                                                                       key=key,\n",
        "                                                                                                                       encrypted=encrypted_text))\n"
      ],
      "execution_count": 0,
      "outputs": [
        {
          "output_type": "stream",
          "text": [
            "O texto inserido TEXTONAOCRIPTOGRAFADO foi criptografado utilizando a chave BATATA.\n",
            "Texto criptografado: UEQTHNBOVRBPUOZRTFBDH\n",
            "UEQTHNBOVRBPUOZRTFBDH\n"
          ],
          "name": "stdout"
        }
      ]
    }
  ]
}