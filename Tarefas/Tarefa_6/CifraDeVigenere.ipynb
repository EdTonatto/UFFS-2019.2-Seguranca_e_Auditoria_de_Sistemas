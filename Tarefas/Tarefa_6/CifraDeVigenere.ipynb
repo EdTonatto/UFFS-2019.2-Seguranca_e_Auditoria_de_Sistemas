{
  "nbformat": 4,
  "nbformat_minor": 0,
  "metadata": {
    "colab": {
      "name": "CifraDeVigenere.ipynb",
      "provenance": []
    },
    "kernelspec": {
      "name": "python3",
      "display_name": "Python 3"
    }
  },
  "cells": [
    {
      "cell_type": "markdown",
      "metadata": {
        "id": "C1tYZTzIuLta",
        "colab_type": "text"
      },
      "source": [
        "# Cifra de Vigenère\n",
        "\n",
        "A Cifra de Vigenère segue a ideia principal de outra cifra, a Cifra de César. Porém diferente da cifra de César onde a chave de codificação consistia em um valor fixo, aqui na cifra de Vigenère temos a chave com diferentes valores, a chave não necessariamente é um numero, mas sim um caractere.\n",
        "\n",
        "Cada letra do alfabeto é mapeada com números de 0 até 25, representando os 26 caracteres do alfabeto. E a cifra consiste em somarmos o valor da letra do texto normal, com o valor da letra correspondente na chave.\n",
        "\n",
        "|Descrição            |Valor                |\n",
        "|:-------------------:|:-------------------:|\n",
        "|Texto normal         |TEXTONAOCRIPTOGRAFADO|\n",
        "|Chave de criptografia|BATATABATATABATATABAT|\n",
        "|Texto criptografado  |INSERIRAQUIAPOSFAZEROCODIGO|\n"
      ]
    }
  ]
}