{
  "nbformat": 4,
  "nbformat_minor": 0,
  "metadata": {
    "colab": {
      "name": "CifraDeVigenere.ipynb",
      "provenance": [],
      "collapsed_sections": [],
      "toc_visible": true
    },
    "kernelspec": {
      "name": "python3",
      "display_name": "Python 3"
    }
  },
  "cells": [
    {
      "cell_type": "markdown",
      "metadata": {
        "id": "C1tYZTzIuLta",
        "colab_type": "text"
      },
      "source": [
        "# Cifra de Vigenère\n",
        "\n",
        "A Cifra de Vigenère segue a ideia principal de outra cifra, a Cifra de César. Porém diferente da cifra de César onde a chave de codificação consistia em um valor fixo, aqui na cifra de Vigenère temos a chave com diferentes valores, a chave não necessariamente é um numero, mas sim um caractere.\n"
      ]
    },
    {
      "cell_type": "markdown",
      "metadata": {
        "id": "kT-D6et4U9px",
        "colab_type": "text"
      },
      "source": [
        "\n",
        "---\n",
        "\n",
        "## Cifrando um texto\n",
        "\n",
        "Cada letra do alfabeto é mapeada com números de 0 até 25, representando os 26 caracteres do alfabeto. E a cifra consiste em somarmos o valor da letra do texto normal, com o valor da letra correspondente na chave.\n",
        "\n",
        "Como exemplo iremos usar a seguinte frase `TEXTONAOCRIPTOGRAFADO` e como chave iremos usar `BATATA`, a chave deve ser repetida até que complete o tamanho da frase. Como resultado teremos o valor de `T` somado com o valor de `B`, o de `E` somado com o de `A` e assim por diante até que se complete todo o texto de entrada.\n",
        "\n",
        "|Descrição                |Valor                |\n",
        "|:-----------------------:|:-------------------:|\n",
        "|Texto normal             |TEXTONAOCRIPTOGRAFADO|\n",
        "|Chave de criptografia (+)|BATATABATATABATATABAT|\n",
        "|Texto criptografado      |UEQTHNBOVRBPUOZRTFBDH|\n",
        "\n",
        "Abaixo exemplo em código utilizando o texto normal e somando os valores da chave de criptografia da tabela acima para obter o texto criptografado."
      ]
    },
    {
      "cell_type": "code",
      "metadata": {
        "id": "Dxru6MrV9qag",
        "colab_type": "code",
        "outputId": "115e7637-a1a7-439d-d0fc-fb568571e187",
        "colab": {
          "base_uri": "https://localhost:8080/",
          "height": 51
        }
      },
      "source": [
        "import string\n",
        "\n",
        "alphabet = {}\n",
        "encode_alphabet = {}\n",
        "normal_text = \"TEXTONAOCRIPTOGRAFADO\"\n",
        "key = \"BATATA\"\n",
        "encrypted_text = \"\"\n",
        "\n",
        "def create_alphabet():\n",
        "  i = 0\n",
        "  for letter in string.ascii_uppercase:\n",
        "    alphabet[letter] = i\n",
        "    encode_alphabet[i] = letter\n",
        "    i += 1\n",
        "create_alphabet()\n",
        "\n",
        "def encrypt_text():\n",
        "  normal_text_list = list(normal_text)\n",
        "  key_list = list(key)\n",
        "  return \"\".join([encode_alphabet[(alphabet[normal_text_list[i]] + alphabet[key_list[i % len(key)]]) % len(alphabet)] for i in range(len(normal_text))])\n",
        "encrypted_text = encrypt_text()\n",
        "\n",
        "print(\"O texto inserido {normal} foi criptografado utilizando a chave {key}.\\nTexto criptografado: {encrypted}\".format(normal=normal_text,\n",
        "                                                                                                                       key=key,\n",
        "                                                                                                                       encrypted=encrypted_text))"
      ],
      "execution_count": 40,
      "outputs": [
        {
          "output_type": "stream",
          "text": [
            "O texto inserido TEXTONAOCRIPTOGRAFADO foi criptografado utilizando a chave BATATA.\n",
            "Texto criptografado: UEQTHNBOVRBPUOZRTFBDH\n"
          ],
          "name": "stdout"
        }
      ]
    },
    {
      "cell_type": "markdown",
      "metadata": {
        "id": "zr6Iy_iFTt8W",
        "colab_type": "text"
      },
      "source": [
        "\n",
        "---\n",
        "\n",
        "## Deficrando um texto"
      ]
    },
    {
      "cell_type": "markdown",
      "metadata": {
        "id": "GX74Sn-wVRO7",
        "colab_type": "text"
      },
      "source": [
        "### Contendo a chave\n",
        "\n",
        "Para decriptografar o texto contendo a chave utilizada para criptografar basta fazer o processo inverso ao da criptografação.\n",
        "\n",
        "No momento de criptografar somamos o valor de cada letra do texto normal com a letra correspondente na chave de criptografia e a partir disso obtemos o texto criptografado. Para decriptografar, o porcesso inverso a se fazer é pegar o texto criptografado e para cada letra dele subtrair o valor da letra da palavra chave correspondente.\n",
        "\n",
        "|Descrição                |Valor                |\n",
        "|:-----------------------:|:-------------------:|\n",
        "|Texto criptografado      |UEQTHNBOVRBPUOZRTFBDH|\n",
        "|Chave de criptografia (-)|BATATABATATABATATABAT|\n",
        "|Texto normal             |TEXTONAOCRIPTOGRAFADO|\n",
        "\n",
        "Abaixo exemplo em código utilizando o texto criptografado e removendo os valores da chave de criptografia da tabela acima para obter o valor do texto normal."
      ]
    },
    {
      "cell_type": "code",
      "metadata": {
        "id": "MUA63NXGXUTA",
        "colab_type": "code",
        "colab": {
          "base_uri": "https://localhost:8080/",
          "height": 34
        },
        "outputId": "be88d84c-3a25-44a6-a880-6c4106cec501"
      },
      "source": [
        "def decrypt_text():\n",
        "  encrypted_text_list = list(encrypted_text)\n",
        "  key_list = list(key)\n",
        "  return \"\".join([encode_alphabet[(alphabet[encrypted_text_list[i]] - alphabet[key_list[i % len(key)]]) % len(alphabet)] for i in range(len(encrypted_text_list))])\n",
        "decrypted_text = decrypt_text()\n",
        "\n",
        "print(decrypted_text)"
      ],
      "execution_count": 42,
      "outputs": [
        {
          "output_type": "stream",
          "text": [
            "TEXTONAOCRIPTOGRAFADO\n"
          ],
          "name": "stdout"
        }
      ]
    }
  ]
}